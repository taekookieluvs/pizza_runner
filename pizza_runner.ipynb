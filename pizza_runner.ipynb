{
 "cells": [
  {
   "cell_type": "code",
   "execution_count": 1,
   "id": "21d2b0f8",
   "metadata": {
    "scrolled": false,
    "tags": [
     "remove-cell"
    ]
   },
   "outputs": [],
   "source": [
    "%load_ext sql"
   ]
  },
  {
   "cell_type": "code",
   "execution_count": 2,
   "id": "39c2346b",
   "metadata": {
    "tags": [
     "remove-cell"
    ]
   },
   "outputs": [],
   "source": [
    "import os"
   ]
  },
  {
   "cell_type": "code",
   "execution_count": 3,
   "id": "f445f8a7",
   "metadata": {
    "tags": [
     "remove-cell"
    ]
   },
   "outputs": [],
   "source": [
    "host = \"localhost\"\n",
    "database = \"pizza_runner\"\n",
    "user = os.environ.get('DB_USER')\n",
    "password = os.environ.get('DB_PASS')"
   ]
  },
  {
   "cell_type": "code",
   "execution_count": 4,
   "id": "55a8e699",
   "metadata": {
    "tags": [
     "remove-cell"
    ]
   },
   "outputs": [],
   "source": [
    "connection_string = f\"postgresql://{user}:{password}@{host}/{database}\""
   ]
  },
  {
   "cell_type": "code",
   "execution_count": 5,
   "id": "41d3b5a2",
   "metadata": {},
   "outputs": [
    {
     "name": "stdout",
     "output_type": "stream",
     "text": [
      "DB_USER\n",
      "DB_PASS\n"
     ]
    }
   ],
   "source": [
    "print('DB_USER')\n",
    "print('DB_PASS')"
   ]
  },
  {
   "cell_type": "code",
   "execution_count": null,
   "id": "b8545497",
   "metadata": {
    "scrolled": true,
    "tags": [
     "remove-cell"
    ]
   },
   "outputs": [],
   "source": [
    "%sql $connection_string"
   ]
  },
  {
   "cell_type": "code",
   "execution_count": null,
   "id": "2551eae1",
   "metadata": {},
   "outputs": [],
   "source": [
    "%%sql\n",
    "\n",
    "SELECT table_name--, column_name, data_type \n",
    "FROM information_schema.tables \n",
    "WHERE table_schema='public';\n",
    "\n",
    "\n",
    "SELECT table_name, column_name, data_type \n",
    "FROM information_schema.columns \n",
    "WHERE table_name IN (\n",
    "'pizza_recipes',\n",
    "'runners',\n",
    "'customer_orders',\n",
    "'runner_orders',\n",
    "'pizza_names',\n",
    "'pizza_toppings')\n",
    "ORDER BY table_name"
   ]
  },
  {
   "cell_type": "markdown",
   "id": "fa7cd7b2",
   "metadata": {},
   "source": [
    "# DATASET CLEAN UP"
   ]
  },
  {
   "cell_type": "code",
   "execution_count": null,
   "id": "2acdeea1",
   "metadata": {
    "scrolled": false
   },
   "outputs": [],
   "source": [
    "%%sql\n",
    "\n",
    "UPDATE customer_orders\n",
    "SET exclusions = NULL \n",
    "WHERE exclusions = '' OR exclusions = 'none';\n",
    "\n",
    "\n",
    "UPDATE customer_orders\n",
    "SET extras = NULL\n",
    "WHERE extras = '' OR extras = 'NaN' OR extras = 'null';\n",
    "\n",
    "UPDATE runner_orders\n",
    "SET duration = NULL, distance = NULL, pickup_time = NULL\n",
    "WHERE duration = 'null' OR distance = 'null' OR pickup_time = 'null';\n",
    "\n",
    "UPDATE runner_orders\n",
    "SET cancellation = NULL\n",
    "WHERE cancellation = 'null' OR cancellation = '';\n",
    "\n",
    "UPDATE runner_orders\n",
    "SET duration = REPLACE(REPLACE(REPLACE(REPLACE(REPLACE(duration, ' minutes', ''), ' mins', ''), 'mins', ''), ' minute', ''), 'minutes', '');\n",
    "\n",
    "UPDATE runner_orders\n",
    "SET distance = REPLACE(REPLACE(distance, ' km', ''), 'km', '');\n"
   ]
  },
  {
   "cell_type": "markdown",
   "id": "60525e95",
   "metadata": {},
   "source": [
    "# PIZZA METRICS"
   ]
  },
  {
   "cell_type": "markdown",
   "id": "d2d3bee6",
   "metadata": {},
   "source": [
    "#### How many pizzas were ordered?"
   ]
  },
  {
   "cell_type": "code",
   "execution_count": null,
   "id": "dcf4e187",
   "metadata": {},
   "outputs": [],
   "source": [
    "%%sql\n",
    "\n",
    "SELECT COUNT(order_id) AS total_pizzas\n",
    "FROM customer_orders;"
   ]
  },
  {
   "cell_type": "markdown",
   "id": "db5a16b1",
   "metadata": {},
   "source": [
    "#### How many unique customer orders were made?"
   ]
  },
  {
   "cell_type": "code",
   "execution_count": null,
   "id": "a98c5f3f",
   "metadata": {},
   "outputs": [],
   "source": [
    "%%sql\n",
    "\n",
    "SELECT COUNT(DISTINCT order_id) AS unq_orders\n",
    "FROM customer_orders;\n"
   ]
  },
  {
   "cell_type": "markdown",
   "id": "944150a8",
   "metadata": {},
   "source": [
    "#### How many successful orders were delivered by each runner?"
   ]
  },
  {
   "cell_type": "code",
   "execution_count": null,
   "id": "225fba8a",
   "metadata": {},
   "outputs": [],
   "source": [
    "%%sql\n",
    "\n",
    "SELECT runner_id, COUNT(*) AS deliveries\n",
    "FROM runner_orders\n",
    "-- subquery for cancelled orders\n",
    "WHERE order_id IN (\n",
    "\tSELECT order_id\n",
    "\tFROM runner_orders\n",
    "\tWHERE cancellation IS NULL)\n",
    "GROUP BY runner_id;"
   ]
  },
  {
   "cell_type": "markdown",
   "id": "fb4f5468",
   "metadata": {},
   "source": [
    "#### How many of each type of pizza was delivered?"
   ]
  },
  {
   "cell_type": "code",
   "execution_count": null,
   "id": "6a358309",
   "metadata": {},
   "outputs": [],
   "source": [
    "%%sql\n",
    "\n",
    "SELECT pn.pizza_name, COUNT(co.pizza_id) AS delivery_cnt\n",
    "FROM customer_orders co\n",
    "-- left join pizza_name table for name instead of id\n",
    "LEFT JOIN pizza_names pn \n",
    "USING(pizza_id)\n",
    "WHERE order_id IN (\n",
    "\tSELECT order_id\n",
    "\tFROM runner_orders\n",
    "\tWHERE cancellation IS NULL)\n",
    "GROUP BY pn.pizza_id, pn.pizza_name;"
   ]
  },
  {
   "cell_type": "markdown",
   "id": "9ba05377",
   "metadata": {},
   "source": [
    "#### How many Vegetarian and Meatlovers were ordered by each customer?"
   ]
  },
  {
   "cell_type": "code",
   "execution_count": null,
   "id": "7508e011",
   "metadata": {},
   "outputs": [],
   "source": [
    "%%sql\n",
    "\n",
    "SELECT co.customer_id, pn.pizza_name, COUNT(co.pizza_id) AS customer_cnt\n",
    "FROM pizza_names pn\n",
    "-- left, right or full outer join all would return same results\n",
    "INNER JOIN customer_orders co \n",
    "USING(pizza_id)\n",
    "GROUP BY customer_id, pn.pizza_name \n",
    "ORDER BY pn.pizza_name, COUNT(co.pizza_id) DESC;"
   ]
  },
  {
   "cell_type": "markdown",
   "id": "d2767a90",
   "metadata": {},
   "source": [
    "#### What was the maximum number of pizzas delivered in a single order?"
   ]
  },
  {
   "cell_type": "code",
   "execution_count": null,
   "id": "12b0048e",
   "metadata": {
    "scrolled": true
   },
   "outputs": [],
   "source": [
    "%%sql\n",
    "\n",
    "SELECT MAX(order_id) AS max_pizza_delivered\n",
    "FROM customer_orders \n",
    "-- subquery in where clause to get count of each order by id\n",
    "WHERE order_id IN (\n",
    "\tSELECT COUNT(order_id)\n",
    "\tFROM customer_orders\n",
    "\tRIGHT runner_orders ro \n",
    "\tUSING(order_id)\n",
    "\tWHERE cancellation IS NULL\n",
    "\tGROUP BY order_id);"
   ]
  },
  {
   "cell_type": "markdown",
   "id": "31a2848c",
   "metadata": {},
   "source": [
    "#### For each customer, how many delivered pizzas had at least 1 change and how many had no changes?"
   ]
  },
  {
   "cell_type": "code",
   "execution_count": null,
   "id": "5ee46694",
   "metadata": {},
   "outputs": [],
   "source": [
    "%%sql\n",
    "\n",
    "-- using the coalesce function on exclusions/extras to combine into 1 column, to find pizzas with or without nulls\n",
    "-- they could then be counted as having been changed or not\n",
    "\n",
    "SELECT customer_id, COUNT(COALESCE(exclusions, extras)) AS pizzas_changed, \n",
    "COUNT(*) - COUNT(COALESCE(exclusions, extras)) AS no_change\n",
    "FROM customer_orders\n",
    "WHERE order_id IN (\n",
    "\tSELECT order_id\n",
    "\tFROM runner_orders\n",
    "\tWHERE cancellation IS NULL)\n",
    "GROUP BY customer_id\n",
    "ORDER BY customer_id; "
   ]
  },
  {
   "cell_type": "markdown",
   "id": "175ebb85",
   "metadata": {},
   "source": [
    "#### How many pizzas were delivered that had both exclusions and extras?"
   ]
  },
  {
   "cell_type": "code",
   "execution_count": null,
   "id": "a4b11972",
   "metadata": {},
   "outputs": [],
   "source": [
    "%%sql\n",
    "\n",
    "SELECT COUNT(*) AS dbl_changes\n",
    "FROM customer_orders\n",
    "WHERE order_id IN (\n",
    "\tSELECT order_id\n",
    "\tFROM runner_orders\n",
    "\tWHERE cancellation IS NULL)\n",
    "AND (exclusions IS NOT NULL AND extras IS NOT NULL);"
   ]
  },
  {
   "cell_type": "markdown",
   "id": "d076c6fc",
   "metadata": {},
   "source": [
    "#### What was the total volume of pizzas ordered for each hour of the day?"
   ]
  },
  {
   "cell_type": "code",
   "execution_count": null,
   "id": "704348c8",
   "metadata": {},
   "outputs": [],
   "source": [
    "%%sql\n",
    "\n",
    "-- using the extract function to pull the hour from the order_time we can then count the rows\n",
    "\n",
    "SELECT EXTRACT(HOUR FROM order_time) AS order_hour, COUNT(*) AS pizza_vol\n",
    "FROM customer_orders\n",
    "WHERE order_id IN (\n",
    "\tSELECT order_id\n",
    "\tFROM runner_orders\n",
    "\tWHERE cancellation IS NULL)\n",
    "GROUP BY EXTRACT(HOUR FROM order_time)\n",
    "ORDER BY EXTRACT(HOUR FROM order_time);"
   ]
  },
  {
   "cell_type": "markdown",
   "id": "1ee1f2ad",
   "metadata": {},
   "source": [
    "#### What was the volume of orders for each day of the week?"
   ]
  },
  {
   "cell_type": "code",
   "execution_count": null,
   "id": "af873246",
   "metadata": {},
   "outputs": [],
   "source": [
    "%%sql\n",
    "\n",
    "-- use case when statement to extract day of week and assign weekday abbr text to number associated with DOW\n",
    "-- simplier query would be simply to extract the day of week and leave with the number associated with day of week\n",
    "\n",
    "SELECT\n",
    "CASE \n",
    "\tWHEN EXTRACT(DOW FROM order_time) = 1 THEN 'Sun'\n",
    "\tWHEN EXTRACT(DOW FROM order_time) = 2 THEN 'Mon'\n",
    "\tWHEN EXTRACT(DOW FROM order_time) = 3 THEN 'Tue'\n",
    "\tWHEN EXTRACT(DOW FROM order_time) = 4 THEN 'Wed'\n",
    "\tWHEN EXTRACT(DOW FROM order_time) = 5 THEN 'Thur'\n",
    "\tWHEN EXTRACT(DOW FROM order_time) = 6 THEN 'Fri'\n",
    "\tWHEN EXTRACT(DOW FROM order_time) = 7 THEN 'Sat'\n",
    "END AS day_of_week,\n",
    " COUNT(*) AS pizza_vol\n",
    "FROM customer_orders\n",
    "WHERE order_id IN (\n",
    "\tSELECT order_id\n",
    "\tFROM runner_orders\n",
    "\tWHERE cancellation IS NULL)\n",
    "GROUP BY day_of_week;"
   ]
  },
  {
   "cell_type": "markdown",
   "id": "c64acd09",
   "metadata": {},
   "source": [
    "# RUNNER AND CUSTOMER EXPERIENCE"
   ]
  },
  {
   "cell_type": "markdown",
   "id": "b3b6e730",
   "metadata": {},
   "source": [
    "#### How many runners signed up for each 1 week period? (i.e. week starts 2021-01-01)"
   ]
  },
  {
   "cell_type": "code",
   "execution_count": null,
   "id": "53d59efa",
   "metadata": {},
   "outputs": [],
   "source": [
    "%%sql\n",
    "\n",
    "-- count runner_id with window function to get cummulative sum, and order with case statement as year starts within \n",
    "-- the week of 53\n",
    "SELECT DISTINCT week, COUNT(r1.runner_id) OVER(ORDER BY \n",
    "\tCASE WHEN week = 53 THEN 1\n",
    "\t\tWHEN week = 1 THEN 2\n",
    "\t\tWHEN week = 2 THEN 3\n",
    "\tEND) AS total_cnt\n",
    "-- extract week from registration date and add interval 1 day as default week not consistant\n",
    "FROM (SELECT runner_id, (EXTRACT(WEEK FROM (registration_date + INTERVAL '1 day'))) AS week\n",
    "\t\tFROM runners) AS r1\n",
    "JOIN runners AS r2\n",
    "USING(runner_id)\n",
    "ORDER BY total_cnt;"
   ]
  },
  {
   "cell_type": "markdown",
   "id": "bfc99332",
   "metadata": {},
   "source": [
    "#### What was the average time in minutes it took for each runner to arrive at the Pizza Runner HQ to pickup the order?"
   ]
  },
  {
   "cell_type": "code",
   "execution_count": null,
   "id": "becdcad8",
   "metadata": {},
   "outputs": [],
   "source": [
    "%%sql\n",
    "\n",
    "SELECT runner_id,\n",
    "-- cast pickup_time as timestamp and trunc at the minute location before averaging \n",
    "-- the time taken to arrive at Pizza Runner\n",
    "AVG(DATE_TRUNC('minute', ro.pickup_time::timestamp - co.order_time)) AS avg_arrival\n",
    "FROM customer_orders co \n",
    "INNER JOIN runner_orders ro \n",
    "USING(order_id)\n",
    "WHERE order_id IN (\n",
    "\tSELECT order_id\n",
    "\tFROM runner_orders\n",
    "\tWHERE cancellation IS NULL)\n",
    "GROUP BY runner_id;"
   ]
  },
  {
   "cell_type": "markdown",
   "id": "b9b2f487",
   "metadata": {},
   "source": [
    "#### Is there any relationship between the number of pizzas and how long the order takes to prepare?"
   ]
  },
  {
   "cell_type": "code",
   "execution_count": null,
   "id": "d37139bf",
   "metadata": {
    "scrolled": true
   },
   "outputs": [],
   "source": [
    "%%sql\n",
    "\n",
    "SELECT order_id,\n",
    "COUNT(order_id) AS pizza_count,\n",
    "-- use similar method as above to calculate ready time, and average time per pizza\n",
    "ro.pickup_time::timestamp - co.order_time AS ready_time,\n",
    "DATE_TRUNC('minute', ro.pickup_time::timestamp - co.order_time) / COUNT(order_id) AS avg_per_pizza\n",
    "FROM customer_orders co \n",
    "INNER JOIN runner_orders ro \n",
    "USING(order_id)\n",
    "WHERE order_id IN (\n",
    "\tSELECT order_id\n",
    "\tFROM runner_orders\n",
    "\tWHERE cancellation IS NULL)\n",
    "GROUP BY order_id, pickup_time, order_time\n",
    "\n",
    "-- ** There does seem to be a correlation be the number of pizzas and how long it takes to prepare\n",
    "-- each pizza averaging around 10 mins;"
   ]
  },
  {
   "cell_type": "markdown",
   "id": "dfbace74",
   "metadata": {},
   "source": [
    "#### What was the average distance travelled for each customer? (km)"
   ]
  },
  {
   "cell_type": "code",
   "execution_count": null,
   "id": "9957b5c1",
   "metadata": {},
   "outputs": [],
   "source": [
    "%%sql\n",
    "\n",
    "SELECT customer_id, ROUND(AVG(distance::NUMERIC),2) AS avg_distance\n",
    "FROM runner_orders ro\n",
    "LEFT JOIN customer_orders co \n",
    "USING(order_id)\n",
    "GROUP BY customer_id\n",
    "ORDER BY customer_id; "
   ]
  },
  {
   "cell_type": "markdown",
   "id": "a9b3d702",
   "metadata": {},
   "source": [
    "#### What was the difference between the longest and shortest delivery times for all orders? (mins)"
   ]
  },
  {
   "cell_type": "code",
   "execution_count": null,
   "id": "dfc97423",
   "metadata": {},
   "outputs": [],
   "source": [
    "%%sql\n",
    "\n",
    "-- calculate duration differance then use concat function to append 'mins' at the end\n",
    "SELECT CONCAT(MAX(duration::NUMERIC) - MIN(duration::NUMERIC),' mins') AS diff_duration\n",
    "FROM runner_orders;"
   ]
  },
  {
   "cell_type": "markdown",
   "id": "6e0c76a9",
   "metadata": {},
   "source": [
    "#### What was the average speed for each runner for each delivery and do you notice any trend for these values?"
   ]
  },
  {
   "cell_type": "code",
   "execution_count": null,
   "id": "1a137562",
   "metadata": {},
   "outputs": [],
   "source": [
    "%%sql\n",
    "\n",
    "SELECT runner_id, ROUND(AVG(duration::NUMERIC),2), COUNT(order_id)\n",
    "FROM runner_orders\n",
    "GROUP BY runner_id \n",
    "\n",
    "-- ** Runner 3 has a shorter delivery time, however has 1/2 the order count since they started later. ;"
   ]
  },
  {
   "cell_type": "markdown",
   "id": "e202a73c",
   "metadata": {},
   "source": [
    "#### What is the successful delivery percentage for each runner?"
   ]
  },
  {
   "cell_type": "code",
   "execution_count": null,
   "id": "0d9e439c",
   "metadata": {},
   "outputs": [],
   "source": [
    "%%sql \n",
    "\n",
    "-- use a cte and a case when tablw to sum the total completed orders, col as success\n",
    "WITH orders AS (\n",
    "SELECT runner_id,\n",
    "SUM(CASE WHEN cancellation IS NULL THEN 1\n",
    "ELSE 0 END) AS success, COUNT(order_id) AS total\n",
    "FROM runner_orders\n",
    "GROUP BY runner_id\n",
    ")\n",
    "-- then divid the successful deliveries by total (multiply by 100), and group by runner_id\n",
    "SELECT runner_id, success, total, ROUND((success::NUMERIC / total::NUMERIC),2) * 100 AS succ_perc\n",
    "FROM orders\n",
    "ORDER BY runner_id;"
   ]
  },
  {
   "cell_type": "markdown",
   "id": "c39c1082",
   "metadata": {},
   "source": [
    "# PRICING AND OPTIMIZATION"
   ]
  },
  {
   "cell_type": "markdown",
   "id": "36daae33",
   "metadata": {},
   "source": [
    "#### What are the standard ingredients for each pizza?"
   ]
  },
  {
   "cell_type": "code",
   "execution_count": null,
   "id": "d7bb3e82",
   "metadata": {},
   "outputs": [],
   "source": [
    "%%sql\n",
    "\n",
    "-- create new table to fix the pizza_recipe table from horizontal text to vertical numeric for better use\n",
    "\n",
    "-- DROP TABLE IF EXISTS p_recipe;\n",
    "CREATE TABLE p_recipe (\n",
    "\tpizza_id int,\n",
    "\ttoppings int\n",
    ");\n",
    "INSERT INTO p_recipe\n",
    "(pizza_id, toppings)\n",
    "VALUES\n",
    "('1', '1'),\n",
    "('1', '2'),\n",
    "('1', '3'),\n",
    "('1', '4'),\n",
    "('1', '5'),\n",
    "('1', '6'),\n",
    "('1', '8'),\n",
    "('1', '10'),\n",
    "('2', '4'),\n",
    "('2', '6'),\n",
    "('2', '7'),\n",
    "('2', '9'),\n",
    "('2', '11'),\n",
    "('2', '12');\n",
    "\n",
    "-- use string_agg to combine all applicable toppings in single row with a ', '\n",
    "SELECT pizza_name, STRING_AGG(topping_name, ', ') AS toppings\n",
    "FROM pizza_names n\n",
    "INNER JOIN p_recipe r\n",
    "ON r.pizza_id = n.pizza_id\n",
    "INNER JOIN pizza_toppings t\n",
    "ON r.toppings = t.topping_id\n",
    "GROUP BY pizza_name;"
   ]
  },
  {
   "cell_type": "markdown",
   "id": "66509a5f",
   "metadata": {},
   "source": [
    "#### What was the most commonly added extra?"
   ]
  },
  {
   "cell_type": "code",
   "execution_count": null,
   "id": "5f75feb3",
   "metadata": {},
   "outputs": [],
   "source": [
    "%%sql\n",
    "\n",
    "WITH split_extras AS (\n",
    "SELECT SPLIT_PART(extras, ',', 1) AS extra_id\n",
    "FROM customer_orders\n",
    "WHERE SPLIT_PART(extras, ',', 1) IS NOT NULL\n",
    "UNION ALL\n",
    "SELECT SPLIT_PART(extras, ',', 2)\n",
    "FROM customer_orders \n",
    "WHERE SPLIT_PART(extras, ',', 2) IS NOT NULL)\n",
    "SELECT topping_name, COUNT(extra_id)::NUMERIC AS most_common\n",
    "FROM split_extras s\n",
    "INNER JOIN pizza_toppings t\n",
    "ON s.extra_id::NUMERIC = t.topping_id\n",
    "WHERE extra_id != ''\n",
    "GROUP BY topping_name\n",
    "ORDER BY most_common DESC\n",
    "LIMIT 1;"
   ]
  },
  {
   "cell_type": "markdown",
   "id": "37d1c48f",
   "metadata": {},
   "source": [
    "#### What was the most common exclusion?"
   ]
  },
  {
   "cell_type": "code",
   "execution_count": null,
   "id": "5ab4d8a2",
   "metadata": {},
   "outputs": [],
   "source": [
    "%%sql\n",
    "\n",
    "WITH split_exclusions AS (\n",
    "SELECT SPLIT_PART(exclusions, ',', 1) AS exclusions_id\n",
    "FROM customer_orders\n",
    "WHERE SPLIT_PART(exclusions, ',', 1) IS NOT NULL\n",
    "UNION ALL\n",
    "SELECT SPLIT_PART(exclusions, ',', 2)\n",
    "FROM customer_orders\n",
    "WHERE SPLIT_PART(exclusions, ',', 2) IS NOT NULL\n",
    "AND SPLIT_PART(exclusions, ',', 2) != '')\n",
    "SELECT topping_name, COUNT(exclusions_id)::NUMERIC AS most_common\n",
    "FROM split_exclusions s\n",
    "INNER JOIN pizza_toppings t\n",
    "ON s.exclusions_id::NUMERIC = t.topping_id\n",
    "WHERE exclusions_id != ''\n",
    "GROUP BY topping_name\n",
    "ORDER BY most_common DESC\n",
    "LIMIT 1;"
   ]
  },
  {
   "cell_type": "markdown",
   "id": "d8aa36e9",
   "metadata": {},
   "source": [
    "#### Generate an order item for each record in the customers_orders table in the format of one of the following:\n",
    "##### Meat Lovers\n",
    "##### Meat Lovers - Exclude Beef\n",
    "##### Meat Lovers - Extra Bacon\n",
    "##### Meat Lovers - Exclude Cheese, Bacon - Extra Mushroom, Peppers\n",
    "\n",
    "#### I don't know how to do this one, suggestions please?"
   ]
  },
  {
   "cell_type": "code",
   "execution_count": null,
   "id": "2a11c5e3",
   "metadata": {},
   "outputs": [],
   "source": [
    "%%sql\n",
    "\n"
   ]
  },
  {
   "cell_type": "markdown",
   "id": "a2d98ac6",
   "metadata": {},
   "source": [
    "#### Generate an alphabetically ordered comma separated ingredient list for each pizza order from the customer_orders table and add a 2x in front of any relevant ingredients\n",
    "##### For example: \"Meat Lovers: 2xBacon, Beef, ... , Salami\""
   ]
  },
  {
   "cell_type": "code",
   "execution_count": null,
   "id": "fa683c66",
   "metadata": {},
   "outputs": [],
   "source": [
    "%%sql\n",
    "\n",
    "-- I dont know how to do the 2x, or to put the ingredients alphabetically. Suggestions?\n",
    "\n",
    "SELECT co.order_id,\n",
    "STRING_AGG(topping_name, ', ')\n",
    "FROM pizza_names n\n",
    "INNER JOIN p_recipe r\n",
    "ON r.pizza_id = n.pizza_id\n",
    "INNER JOIN pizza_toppings t\n",
    "ON r.toppings = t.topping_id\n",
    "INNER JOIN customer_orders co \n",
    "ON co.pizza_id = n.pizza_id\n",
    "GROUP BY co.order_id\n",
    "ORDER BY co.order_id;"
   ]
  },
  {
   "cell_type": "markdown",
   "id": "83da8ef1",
   "metadata": {},
   "source": [
    "#### What is the total quantity of each ingredient used in all delivered pizzas sorted by most frequent first?\n",
    "\n",
    "#### help?"
   ]
  },
  {
   "cell_type": "code",
   "execution_count": null,
   "id": "f43fde30",
   "metadata": {},
   "outputs": [],
   "source": [
    "%%sql\n",
    "\n"
   ]
  },
  {
   "cell_type": "markdown",
   "id": "003e7490",
   "metadata": {},
   "source": [
    "# PRICING AND RATINGS"
   ]
  },
  {
   "cell_type": "markdown",
   "id": "0f6324b3",
   "metadata": {},
   "source": [
    "#### If a Meat Lovers pizza costs 12 dollars and Vegetarian costs 10 dollars and there were no charges for changes how much money has Pizza Runner made so far if there are no delivery fees?"
   ]
  },
  {
   "cell_type": "code",
   "execution_count": null,
   "id": "4003007d",
   "metadata": {},
   "outputs": [],
   "source": [
    "%%sql \n",
    "\n",
    "WITH type_cnt AS (\n",
    "SELECT pizza_id, COUNT(*) AS pizza_type_cnt\n",
    "FROM customer_orders ro\n",
    "WHERE order_id IN (\n",
    "\tSELECT order_id\n",
    "\tFROM runner_orders\n",
    "\tWHERE cancellation IS NULL)\n",
    "GROUP BY pizza_id\n",
    ")\n",
    "SELECT \n",
    "SUM(CASE WHEN pizza_id = 1 THEN pizza_type_cnt * 12 \n",
    "ELSE pizza_type_cnt * 10 END) AS profit\n",
    "FROM type_cnt t;"
   ]
  },
  {
   "cell_type": "markdown",
   "id": "f82c02f2",
   "metadata": {},
   "source": [
    "#### What if there was an additional 1 dollar charge for any pizza extras?\n",
    "##### - Add cheese is 1 dollar extra\n",
    "\n",
    "#### I thought I knew a way to do this with another cte but not sure. sigh"
   ]
  },
  {
   "cell_type": "code",
   "execution_count": null,
   "id": "3a922a58",
   "metadata": {},
   "outputs": [],
   "source": [
    "%%sql\n",
    "\n"
   ]
  },
  {
   "cell_type": "markdown",
   "id": "cd6fe6b8",
   "metadata": {},
   "source": [
    "#### The Pizza Runner team now wants to add an additional ratings system that allows customers to rate their runner, \n",
    "#### how would you design an additional table for this new dataset? \n",
    "#### - generate a schema for this new table and insert your own data for ratings for each successful customer order between 1 to 5.\n",
    "\n",
    "#### I don't know how to get the ratings I created and the already established columns to line up. \n",
    "#### Do I have to assign the ratings to a key in an already created table?"
   ]
  },
  {
   "cell_type": "code",
   "execution_count": null,
   "id": "24018bbb",
   "metadata": {},
   "outputs": [],
   "source": [
    "%%sql\n",
    "\n",
    "CREATE TABLE customer_reviews (\n",
    "customer_id INT,\n",
    "order_id INT, \n",
    "runner_id INT, \n",
    "rating INT, \n",
    "order_time VARCHAR, \n",
    "pickup_time VARCHAR\n",
    ")\n",
    "\n",
    "INSERT INTO customer_reviews \n",
    "(rating)\n",
    "VALUES\n",
    "('4'),\n",
    "('5'),\n",
    "('3'),\n",
    "('5'),\n",
    "('3'),\n",
    "('4'),\n",
    "('5'),\n",
    "('4')\n",
    "\n",
    "INSERT INTO customer_reviews\n",
    "(customer_id, order_id, runner_id, order_time, pickup_time)\n",
    "SELECT co.customer_id, co.order_id, r.runner_id, co.order_time, r.pickup_time\n",
    "FROM customer_orders co\n",
    "INNER JOIN runner_orders r\n",
    "USING(order_id)\n",
    "WHERE r.cancellation IS NULL\n",
    "GROUP BY co.customer_id, co.order_id, r.runner_id, co.order_time, r.pickup_time;"
   ]
  },
  {
   "cell_type": "markdown",
   "id": "fba28b65",
   "metadata": {},
   "source": [
    "#### Using your newly generated table - can you join all of the information together to form a table which has the following information for successful deliveries?\n",
    "##### customer_id\n",
    "##### order_id\n",
    "##### runner_id\n",
    "##### rating\n",
    "##### order_time\n",
    "##### pickup_time\n",
    "##### Time between order and pickup\n",
    "##### Delivery duration\n",
    "##### Average speed\n",
    "##### Total number of pizzas\n",
    "\n",
    "#### Pretty sure I can do this once I have the table above created."
   ]
  },
  {
   "cell_type": "code",
   "execution_count": null,
   "id": "ce79ae66",
   "metadata": {},
   "outputs": [],
   "source": [
    "%%sql\n",
    "\n"
   ]
  },
  {
   "cell_type": "markdown",
   "id": "b486fa0d",
   "metadata": {},
   "source": [
    "#### If a Meat Lovers pizza was 12 dollars and Vegetarian 10 dollars fixed prices with no cost for extras and each runner is paid 30 cents per kilometre traveled how much money does Pizza Runner have left over after these deliveries?"
   ]
  },
  {
   "cell_type": "code",
   "execution_count": null,
   "id": "c9e04be7",
   "metadata": {},
   "outputs": [],
   "source": [
    "%%sql\n",
    "\n",
    "-- cte for pizza counts by type, and excluding cancellations\n",
    "WITH type_cnt AS (\n",
    "SELECT pizza_id, COUNT(*) AS pizza_type_cnt\n",
    "FROM customer_orders ro\n",
    "WHERE order_id IN (\n",
    "\tSELECT order_id\n",
    "\tFROM runner_orders\n",
    "\tWHERE cancellation IS NULL)\n",
    "GROUP BY pizza_id\n",
    "),\n",
    "-- second cte for for calculation of all runners pay\n",
    "runners_pay AS (\n",
    "SELECT (SUM(distance::NUMERIC)) * .30 AS runner_pay\n",
    "FROM runner_orders\n",
    ")\n",
    "-- from subquery and case statement to total gross profit, an then simple select query to minus pay from gross profit\n",
    "SELECT ROUND(g_profit - runner_pay,2) AS net_profit\n",
    "FROM\n",
    "\t(SELECT SUM(CASE WHEN pizza_id = 1 THEN pizza_type_cnt * 12 \n",
    "\t\t\tELSE pizza_type_cnt * 10 END) AS g_profit\n",
    "\t\t\tFROM type_cnt) gp,\n",
    "runners_pay;"
   ]
  }
 ],
 "metadata": {
  "celltoolbar": "Tags",
  "kernelspec": {
   "display_name": "Python 3 (ipykernel)",
   "language": "python",
   "name": "python3"
  },
  "language_info": {
   "codemirror_mode": {
    "name": "ipython",
    "version": 3
   },
   "file_extension": ".py",
   "mimetype": "text/x-python",
   "name": "python",
   "nbconvert_exporter": "python",
   "pygments_lexer": "ipython3",
   "version": "3.10.8"
  }
 },
 "nbformat": 4,
 "nbformat_minor": 5
}
